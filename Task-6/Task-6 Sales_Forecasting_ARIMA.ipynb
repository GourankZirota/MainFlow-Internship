{
 "cells": [
  {
   "cell_type": "markdown",
   "id": "4634a49b",
   "metadata": {},
   "source": [
    "# Sales Forecasting using ARIMA\n",
    "This notebook demonstrates sales trend analysis and forecasting using ARIMA model."
   ]
  },
  {
   "cell_type": "code",
   "execution_count": null,
   "id": "d8fda221",
   "metadata": {},
   "outputs": [],
   "source": [
    "import pandas as pd\n",
    "import numpy as np\n",
    "import matplotlib.pyplot as plt\n",
    "import seaborn as sns\n",
    "from statsmodels.tsa.stattools import adfuller\n",
    "from statsmodels.graphics.tsaplots import plot_acf, plot_pacf\n",
    "from statsmodels.tsa.arima.model import ARIMA\n",
    "from sklearn.metrics import mean_squared_error, mean_absolute_percentage_error\n",
    "import warnings\n",
    "warnings.filterwarnings('ignore')"
   ]
  },
  {
   "cell_type": "code",
   "execution_count": null,
   "id": "b9c811a9",
   "metadata": {},
   "outputs": [],
   "source": [
    "# Load the Dataset\n",
    "df = pd.read_csv('sample_sales_data.csv')\n",
    "df['Date'] = pd.to_datetime(df['Date'])\n",
    "df.set_index('Date', inplace=True)\n",
    "df.head()"
   ]
  },
  {
   "cell_type": "code",
   "execution_count": null,
   "id": "d96178aa",
   "metadata": {},
   "outputs": [],
   "source": [
    "plt.figure(figsize=(12,6))\n",
    "plt.plot(df['Sales'], label='Sales')\n",
    "plt.title('Sales Over Time')\n",
    "plt.xlabel('Date')\n",
    "plt.ylabel('Sales')\n",
    "plt.legend()\n",
    "plt.show()"
   ]
  },
  {
   "cell_type": "code",
   "execution_count": null,
   "id": "38edddb8",
   "metadata": {},
   "outputs": [],
   "source": [
    "df['Sales_MA30'] = df['Sales'].rolling(window=30).mean()\n",
    "plt.figure(figsize=(12,6))\n",
    "plt.plot(df['Sales'], label='Original Sales')\n",
    "plt.plot(df['Sales_MA30'], label='30-Day Moving Average', color='red')\n",
    "plt.title('Sales with Moving Average')\n",
    "plt.xlabel('Date')\n",
    "plt.ylabel('Sales')\n",
    "plt.legend()\n",
    "plt.show()"
   ]
  },
  {
   "cell_type": "code",
   "execution_count": null,
   "id": "cfdeb075",
   "metadata": {},
   "outputs": [],
   "source": [
    "result = adfuller(df['Sales'].dropna())\n",
    "print(f'ADF Statistic: {result[0]}')\n",
    "print(f'p-value: {result[1]}')\n",
    "if result[1] > 0.05:\n",
    "    print('Series is Non-Stationary, applying differencing...')\n",
    "    df['Sales_diff'] = df['Sales'] - df['Sales'].shift(1)\n",
    "    result = adfuller(df['Sales_diff'].dropna())\n",
    "    print(f'After Differencing ADF Statistic: {result[0]}')\n",
    "    print(f'After Differencing p-value: {result[1]}')"
   ]
  },
  {
   "cell_type": "code",
   "execution_count": null,
   "id": "18597daa",
   "metadata": {},
   "outputs": [],
   "source": [
    "plot_acf(df['Sales_diff'].dropna(), lags=30)\n",
    "plt.show()\n",
    "plot_pacf(df['Sales_diff'].dropna(), lags=30)\n",
    "plt.show()"
   ]
  },
  {
   "cell_type": "code",
   "execution_count": null,
   "id": "0cbcd4bf",
   "metadata": {},
   "outputs": [],
   "source": [
    "model = ARIMA(df['Sales'], order=(1,1,1))\n",
    "model_fit = model.fit()\n",
    "print(model_fit.summary())"
   ]
  },
  {
   "cell_type": "code",
   "execution_count": null,
   "id": "3351551d",
   "metadata": {},
   "outputs": [],
   "source": [
    "forecast_steps = 30  # Forecast next 30 days\n",
    "forecast = model_fit.forecast(steps=forecast_steps)\n",
    "forecast_dates = pd.date_range(start=df.index[-1]+pd.Timedelta(days=1), periods=forecast_steps)\n",
    "forecast_df = pd.DataFrame({'Date': forecast_dates, 'Forecasted_Sales': forecast.values})\n",
    "forecast_df"
   ]
  },
  {
   "cell_type": "code",
   "execution_count": null,
   "id": "f4974d29",
   "metadata": {},
   "outputs": [],
   "source": [
    "plt.figure(figsize=(12,6))\n",
    "plt.plot(df['Sales'], label='Historical Sales')\n",
    "plt.plot(forecast_df['Date'], forecast_df['Forecasted_Sales'], label='Forecasted Sales', color='green')\n",
    "plt.title('Actual vs Forecasted Sales')\n",
    "plt.xlabel('Date')\n",
    "plt.ylabel('Sales')\n",
    "plt.legend()\n",
    "plt.show()"
   ]
  },
  {
   "cell_type": "code",
   "execution_count": null,
   "id": "262608e0",
   "metadata": {},
   "outputs": [],
   "source": [
    "# Optional Evaluation if test data is available\n",
    "y_true = df['Sales'][-forecast_steps:]\n",
    "y_pred = model_fit.predict(start=len(df)-forecast_steps, end=len(df)-1, typ='levels')\n",
    "rmse = np.sqrt(mean_squared_error(y_true, y_pred))\n",
    "mape = mean_absolute_percentage_error(y_true, y_pred)\n",
    "print(f'RMSE: {rmse:.2f}')\n",
    "print(f'MAPE: {mape*100:.2f}%')"
   ]
  }
 ],
 "metadata": {},
 "nbformat": 4,
 "nbformat_minor": 5
}
